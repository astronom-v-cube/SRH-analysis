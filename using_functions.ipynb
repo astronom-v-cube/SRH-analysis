{
 "cells": [
  {
   "cell_type": "code",
   "execution_count": 1,
   "metadata": {},
   "outputs": [],
   "source": [
    "%matplotlib qt"
   ]
  },
  {
   "cell_type": "markdown",
   "metadata": {},
   "source": [
    "Нужные функции импортируются из соответствующих файлов"
   ]
  },
  {
   "cell_type": "code",
   "execution_count": 2,
   "metadata": {},
   "outputs": [],
   "source": [
    "from create_distribution_histogram import create_distribution_histogram\n",
    "from brightness_temperature_calibration import brightness_temperature_calibration"
   ]
  },
  {
   "cell_type": "markdown",
   "metadata": {},
   "source": [
    "Перед использованием внимательно изучите и заполните файл ```example_config```"
   ]
  },
  {
   "cell_type": "code",
   "execution_count": 3,
   "metadata": {},
   "outputs": [],
   "source": [
    "from example_config import *"
   ]
  },
  {
   "cell_type": "markdown",
   "metadata": {},
   "source": [
    "Функция ```create_distribution_histogram``` предназначена для построения гистограммы распределения яркостной темпрературы в ```.fits``` файле\n",
    "\n",
    "Параметры:\n",
    "- input_file (str): путь к файлу\n",
    "- replace_minus_to_zero (bool, optional): параметр, регулирующий замену отрицательных значений на нуль при подсчете. По умолчанию установлен True.\n",
    "- only_disk (bool, optional): параметр, регулирующий использование только области солнечного диска, или всего изображения. По умолчанию установлен True\n",
    "\n",
    "Построенная гистограмма с возможностью сохранения появится во всплывающем окне"
   ]
  },
  {
   "cell_type": "code",
   "execution_count": 4,
   "metadata": {},
   "outputs": [
    {
     "name": "stdout",
     "output_type": "stream",
     "text": [
      "\n",
      "Дата: 2022-01-13\n",
      "Время: 03:11:23\n",
      "Инструмент: SRH0612\n",
      "Частота: 8200\n",
      "Размер изображения: 1024 px * 1024 px\n",
      "Угловое разрешение: 2.45 arcsec/px\n",
      "Большая полуось ДН: 62.77\n",
      "Малая полуось ДН: 11.88\n",
      "Угол поворота ДН: -19.66\n"
     ]
    }
   ],
   "source": [
    "create_distribution_histogram('test_dataset/srh_20220113T031123_8200_LCP.fit', replace_minus_to_zero = True, only_disk=True)"
   ]
  },
  {
   "cell_type": "markdown",
   "metadata": {},
   "source": [
    "Функция ```brightness_temperature_calibration``` производит яркостную калибровку изображений путем выборки некоторого количества наиболее встречаемых округленных до сотен значений яркостной температуры спокойного Солнца и домножением изображения на расчитанный поправочный коэффициент\n",
    "\n",
    "Параметры:\n",
    "- mode (str, optional): режим работы, расчет или использование сохраненных настроек, устанавливается в 'config.py'\n",
    "- folder_mode (str, optional): режим работы с папками, устанавливается в 'config.py'\n",
    "- postfix (str, optional): что будет добавлено в названия к обработанным файлам, по умолчанию  'calibrated_brightness'.\n",
    "- number_of_mode_values (int, optional): количество усредняемых наиболее встречающихся значений яркостной температуры в изображении, по умолчанию 7\n",
    "- name_of_file (str, optional): имя файла с настройками при использовании режима `saved_settings`, по умолчанию None.\n",
    "\n",
    "По итогам работы скрипта рядом с рабочей директорией создается новая папка с калиброванными изображениями"
   ]
  },
  {
   "cell_type": "code",
   "execution_count": 5,
   "metadata": {},
   "outputs": [
    {
     "name": "stderr",
     "output_type": "stream",
     "text": [
      "Общий прогресс выполнения: 100%|██████████| 16/16 [00:02<00:00,  5.82it/s]\n"
     ]
    }
   ],
   "source": [
    "brightness_temperature_calibration(mode = mode, folder_mode = folder_mode)"
   ]
  }
 ],
 "metadata": {
  "kernelspec": {
   "display_name": "Python 3",
   "language": "python",
   "name": "python3"
  },
  "language_info": {
   "codemirror_mode": {
    "name": "ipython",
    "version": 3
   },
   "file_extension": ".py",
   "mimetype": "text/x-python",
   "name": "python",
   "nbconvert_exporter": "python",
   "pygments_lexer": "ipython3",
   "version": "3.12.0"
  }
 },
 "nbformat": 4,
 "nbformat_minor": 2
}
