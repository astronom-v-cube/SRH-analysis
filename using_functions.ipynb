{
 "cells": [
  {
   "cell_type": "code",
   "execution_count": 5,
   "metadata": {},
   "outputs": [],
   "source": [
    "%matplotlib qt"
   ]
  },
  {
   "cell_type": "code",
   "execution_count": 6,
   "metadata": {},
   "outputs": [],
   "source": [
    "from config import directory, folder_mode\n",
    "from create_distribution_histogram import create_distribution_histogram\n",
    "from brightness_temperature_calibration import brightness_temperature_calibration"
   ]
  },
  {
   "cell_type": "code",
   "execution_count": 12,
   "metadata": {},
   "outputs": [
    {
     "name": "stdout",
     "output_type": "stream",
     "text": [
      "\n",
      "Дата: 2022-01-13\n",
      "Время: 03:11:22\n",
      "Инструмент: SRH0612\n",
      "Частота: 6200\n",
      "Размер изображения: 1024 px * 1024 px\n",
      "Угловое разрешение: 2.45 arcsec/px\n",
      "Большая полуось ДН: 83.23\n",
      "Малая полуось ДН: 15.72\n",
      "Угол поворота ДН: -19.65\n"
     ]
    }
   ],
   "source": [
    "create_distribution_histogram('test_dataset/srh_20220113T031122_6200_LCP.fit')"
   ]
  },
  {
   "cell_type": "code",
   "execution_count": 11,
   "metadata": {},
   "outputs": [
    {
     "name": "stderr",
     "output_type": "stream",
     "text": [
      "Создание папок для частот: 100%|██████████| 5/5 [00:00<?, ?it/s]\n",
      "Общий прогресс выполнения: 100%|██████████| 10/10 [00:01<00:00,  6.21it/s]\n"
     ]
    }
   ],
   "source": [
    "brightness_temperature_calibration(mode = 'calculation', postfix = 'calibrated_brightness', number_of_mode_values = 7)"
   ]
  }
 ],
 "metadata": {
  "kernelspec": {
   "display_name": "Python 3",
   "language": "python",
   "name": "python3"
  },
  "language_info": {
   "codemirror_mode": {
    "name": "ipython",
    "version": 3
   },
   "file_extension": ".py",
   "mimetype": "text/x-python",
   "name": "python",
   "nbconvert_exporter": "python",
   "pygments_lexer": "ipython3",
   "version": "3.12.0"
  }
 },
 "nbformat": 4,
 "nbformat_minor": 2
}
